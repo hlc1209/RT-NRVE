{
  "nbformat": 4,
  "nbformat_minor": 0,
  "metadata": {
    "colab": {
      "name": "final_project",
      "provenance": [],
      "machine_shape": "hm"
    },
    "kernelspec": {
      "name": "python3",
      "display_name": "Python 3"
    },
    "accelerator": "GPU"
  },
  "cells": [
    {
      "cell_type": "code",
      "metadata": {
        "id": "n4_wmJtDbWS5",
        "colab_type": "code",
        "colab": {}
      },
      "source": [
        "# load waves from gdrive\n",
        "!unzip -o \"/content/drive/My Drive/orig_dataset.zip\" -d /content/orig_dataset/"
      ],
      "execution_count": 0,
      "outputs": []
    },
    {
      "cell_type": "code",
      "metadata": {
        "id": "NVr4SAf3FCSi",
        "colab_type": "code",
        "colab": {}
      },
      "source": [
        "!rm -r \"./dataset/\""
      ],
      "execution_count": 0,
      "outputs": []
    },
    {
      "cell_type": "code",
      "metadata": {
        "id": "y0bdn613fGRT",
        "colab_type": "code",
        "colab": {
          "base_uri": "https://localhost:8080/",
          "height": 550
        },
        "outputId": "416d9648-aec7-4e5c-8b70-cacd739d86d9"
      },
      "source": [
        "# generate crm\n",
        "import generate_dataset\n",
        "from importlib import reload\n",
        "reload(generate_dataset)\n",
        "generate_dataset.generate_dataset()"
      ],
      "execution_count": 8,
      "outputs": [
        {
          "output_type": "stream",
          "text": [
            "length of the path list:  824\n",
            "num_per_worker 206\n",
            "\n",
            "\n",
            "\n",
            "\n",
            "\n",
            "\n",
            "\n",
            "\n",
            "\n",
            "\n",
            "\n",
            "\n",
            "length of the path list:  11571\n",
            "num_per_worker 2892\n",
            "\n",
            "\n",
            "\n",
            "\n",
            "\n",
            "\n",
            "\n",
            "\n",
            "\n",
            "\n"
          ],
          "name": "stdout"
        },
        {
          "output_type": "stream",
          "text": [
            "/content/utils.py:146: RuntimeWarning: overflow encountered in exp\n",
            "  numerator = 1-np.exp(-C*M)\n",
            "/content/utils.py:149: RuntimeWarning: overflow encountered in exp\n",
            "  denominator = 1+np.exp(-C*M)\n"
          ],
          "name": "stderr"
        },
        {
          "output_type": "stream",
          "text": [
            "\n",
            "\n"
          ],
          "name": "stdout"
        }
      ]
    },
    {
      "cell_type": "code",
      "metadata": {
        "id": "SzFz2FaMb-A_",
        "colab_type": "code",
        "colab": {
          "base_uri": "https://localhost:8080/",
          "height": 66
        },
        "outputId": "c32330f6-33cd-4f7f-8310-5b5d3e6713d7"
      },
      "source": [
        "!zip -r -q './drive/My Drive/dataset.zip' './dataset/'"
      ],
      "execution_count": 23,
      "outputs": [
        {
          "output_type": "stream",
          "text": [
            "\n",
            "\n",
            "zip error: Interrupted (aborting)\n"
          ],
          "name": "stdout"
        }
      ]
    },
    {
      "cell_type": "code",
      "metadata": {
        "id": "ul3jsguUWmMe",
        "colab_type": "code",
        "colab": {}
      },
      "source": [
        "from shutil import copyfile\n",
        "copyfile(\"./drive/My Drive/inter.h5\",\"./inter.h5\", )"
      ],
      "execution_count": 0,
      "outputs": []
    },
    {
      "cell_type": "code",
      "metadata": {
        "id": "hxVV3-v0Vgly",
        "colab_type": "code",
        "colab": {
          "base_uri": "https://localhost:8080/",
          "height": 33
        },
        "outputId": "c23ea2a3-1ee3-4b29-bdd2-19633880ed6f"
      },
      "source": [
        "import tensorflow as tf\n",
        "import NRVE_model\n",
        "from tensorflow.keras.callbacks import Callback\n",
        "from tensorflow.keras.models import Model, load_model\n",
        "import DataGenerator\n",
        "from tensorflow.keras.callbacks import Callback\n",
        "from tensorflow.keras import optimizers\n",
        "import os\n",
        "# from model_loss import audio_discriminate_loss2 as audio_loss\n",
        "import numpy as np\n",
        "import pickle\n",
        "\n",
        "from shutil import copyfile\n",
        "import importlib\n",
        "\n",
        "importlib.reload(NRVE_model)\n",
        "importlib.reload(DataGenerator)"
      ],
      "execution_count": 34,
      "outputs": [
        {
          "output_type": "execute_result",
          "data": {
            "text/plain": [
              "<module 'DataGenerator' from '/content/DataGenerator.py'>"
            ]
          },
          "metadata": {
            "tags": []
          },
          "execution_count": 34
        }
      ]
    },
    {
      "cell_type": "code",
      "metadata": {
        "id": "hJuKWoW-Vh7u",
        "colab_type": "code",
        "outputId": "a47d1054-1d3e-426a-a0ec-dfd24114db7f",
        "colab": {
          "base_uri": "https://localhost:8080/",
          "height": 50
        }
      },
      "source": [
        "# super parameters\n",
        "epochs = 200\n",
        "initial_epoch = 0\n",
        "batch_size = 16\n",
        "\n",
        "trainfile = []\n",
        "valfile = []\n",
        "\n",
        "\n",
        "traindir = os.listdir(\"./dataset/train/noisy/\")\n",
        "trainfile = []\n",
        "for each_dir in traindir:\n",
        "    trainfile += list(os.listdir(\"./dataset/train/noisy/\"+each_dir))\n",
        "\n",
        "print(len(trainfile))\n",
        "\n",
        "valdir = os.listdir(\"./dataset/test/noisy/\")\n",
        "valfile = []\n",
        "for each_dir in valdir:\n",
        "    valfile += list(os.listdir(\"./dataset/test/noisy/\"+each_dir))\n",
        "\n",
        "print(len(valfile))\n",
        "\n",
        "# p = np.random.RandomState(seed=8).permutation(len(trainfile))\n",
        "# trainfile = list(np.array(trainfile)[p])\n",
        "# p = np.random.RandomState(seed=8).permutation(len(valfile))\n",
        "# valfile = list(np.array(valfile)[p])\n",
        "\n",
        "# trainfile = trainfile[:15000]\n",
        "# valfile = valfile[:800]\n",
        "\n",
        "train_generator = DataGenerator.dataGenerator(trainfile,database_dir_path=\"./dataset/train/\", batch_size=batch_size, shuffle=True)\n",
        "val_generator = DataGenerator.dataGenerator(valfile,database_dir_path=\"./dataset/test/\", batch_size=batch_size, shuffle=True)"
      ],
      "execution_count": 27,
      "outputs": [
        {
          "output_type": "stream",
          "text": [
            "61792\n",
            "3733\n"
          ],
          "name": "stdout"
        }
      ]
    },
    {
      "cell_type": "code",
      "metadata": {
        "id": "4hb4S7xboE8Z",
        "colab_type": "code",
        "colab": {}
      },
      "source": [
        "valfile"
      ],
      "execution_count": 0,
      "outputs": []
    },
    {
      "cell_type": "code",
      "metadata": {
        "id": "U4JsQsMnWjam",
        "colab_type": "code",
        "colab": {
          "base_uri": "https://localhost:8080/",
          "height": 1000
        },
        "outputId": "91cb60a3-fb3a-4171-c93e-dc6962aa3fed"
      },
      "source": [
        "\n",
        "list_loss = []\n",
        "list_mse = []\n",
        "\n",
        "\n",
        "class ThisIsACallback(Callback):\n",
        "    def on_epoch_end(self, epoch, logs=None):\n",
        "        # list_loss.append(logs['loss'])\n",
        "        # list_mse.append(logs['mse'])\n",
        "        # with open('./history.save', 'wb') as f:\n",
        "        #     pickle.dump((list_loss, list_mse), f)\n",
        "        if epoch%2 == 0:\n",
        "            self.model.save(\"temp1\"+ str(logs['mse']) +\".h5\")\n",
        "            copyfile(\"./temp1\"+ str(logs['mse']) +\".h5\", \"./drive/My Drive/temp1\"+ str(logs['mse']) +\".h5\")\n",
        "\n",
        "# logdir = os.path.join(\"logs\", datetime.datetime.now().strftime(\"%Y%m%d-%H%M%S\"))\n",
        "# tensorboard_callback = tf.keras.callbacks.TensorBoard(logdir, histogram_freq=1)\n",
        "\n",
        "\n",
        "myModel = NRVE_model.myModel()\n",
        "myModel.compile(optimizer='adam', loss='mse', metrics=['mse'])\n",
        "print(myModel.summary())\n",
        "\n",
        "# myModel = load_model(\"inter.h5\")\n",
        "# myModel.compile(optimizer='adam', loss='mse', metrics=['mse'])\n",
        "# print(myModel.summary())"
      ],
      "execution_count": 31,
      "outputs": [
        {
          "output_type": "stream",
          "text": [
            "15: (None, 47, 257, 8)\n",
            "Model: \"model_1\"\n",
            "_________________________________________________________________\n",
            "Layer (type)                 Output Shape              Param #   \n",
            "=================================================================\n",
            "input_2 (InputLayer)         [(None, 47, 257, 2)]      0         \n",
            "_________________________________________________________________\n",
            "conv1 (Conv2D)               (None, 47, 257, 64)       960       \n",
            "_________________________________________________________________\n",
            "batch_normalization_15 (Batc (None, 47, 257, 64)       256       \n",
            "_________________________________________________________________\n",
            "activation_15 (Activation)   (None, 47, 257, 64)       0         \n",
            "_________________________________________________________________\n",
            "conv2 (Conv2D)               (None, 47, 257, 64)       28736     \n",
            "_________________________________________________________________\n",
            "batch_normalization_16 (Batc (None, 47, 257, 64)       256       \n",
            "_________________________________________________________________\n",
            "activation_16 (Activation)   (None, 47, 257, 64)       0         \n",
            "_________________________________________________________________\n",
            "conv3 (Conv2D)               (None, 47, 257, 64)       102464    \n",
            "_________________________________________________________________\n",
            "batch_normalization_17 (Batc (None, 47, 257, 64)       256       \n",
            "_________________________________________________________________\n",
            "activation_17 (Activation)   (None, 47, 257, 64)       0         \n",
            "_________________________________________________________________\n",
            "conv4 (Conv2D)               (None, 47, 257, 64)       102464    \n",
            "_________________________________________________________________\n",
            "batch_normalization_18 (Batc (None, 47, 257, 64)       256       \n",
            "_________________________________________________________________\n",
            "activation_18 (Activation)   (None, 47, 257, 64)       0         \n",
            "_________________________________________________________________\n",
            "conv5 (Conv2D)               (None, 47, 257, 64)       102464    \n",
            "_________________________________________________________________\n",
            "batch_normalization_19 (Batc (None, 47, 257, 64)       256       \n",
            "_________________________________________________________________\n",
            "activation_19 (Activation)   (None, 47, 257, 64)       0         \n",
            "_________________________________________________________________\n",
            "conv6 (Conv2D)               (None, 47, 257, 64)       102464    \n",
            "_________________________________________________________________\n",
            "batch_normalization_20 (Batc (None, 47, 257, 64)       256       \n",
            "_________________________________________________________________\n",
            "activation_20 (Activation)   (None, 47, 257, 64)       0         \n",
            "_________________________________________________________________\n",
            "conv9 (Conv2D)               (None, 47, 257, 64)       102464    \n",
            "_________________________________________________________________\n",
            "batch_normalization_21 (Batc (None, 47, 257, 64)       256       \n",
            "_________________________________________________________________\n",
            "activation_21 (Activation)   (None, 47, 257, 64)       0         \n",
            "_________________________________________________________________\n",
            "conv10 (Conv2D)              (None, 47, 257, 64)       102464    \n",
            "_________________________________________________________________\n",
            "batch_normalization_22 (Batc (None, 47, 257, 64)       256       \n",
            "_________________________________________________________________\n",
            "activation_22 (Activation)   (None, 47, 257, 64)       0         \n",
            "_________________________________________________________________\n",
            "conv11 (Conv2D)              (None, 47, 257, 64)       102464    \n",
            "_________________________________________________________________\n",
            "batch_normalization_23 (Batc (None, 47, 257, 64)       256       \n",
            "_________________________________________________________________\n",
            "activation_23 (Activation)   (None, 47, 257, 64)       0         \n",
            "_________________________________________________________________\n",
            "conv12 (Conv2D)              (None, 47, 257, 64)       102464    \n",
            "_________________________________________________________________\n",
            "batch_normalization_24 (Batc (None, 47, 257, 64)       256       \n",
            "_________________________________________________________________\n",
            "activation_24 (Activation)   (None, 47, 257, 64)       0         \n",
            "_________________________________________________________________\n",
            "conv13 (Conv2D)              (None, 47, 257, 64)       102464    \n",
            "_________________________________________________________________\n",
            "batch_normalization_25 (Batc (None, 47, 257, 64)       256       \n",
            "_________________________________________________________________\n",
            "activation_25 (Activation)   (None, 47, 257, 64)       0         \n",
            "_________________________________________________________________\n",
            "conv15 (Conv2D)              (None, 47, 257, 8)        520       \n",
            "_________________________________________________________________\n",
            "batch_normalization_26 (Batc (None, 47, 257, 8)        32        \n",
            "_________________________________________________________________\n",
            "activation_26 (Activation)   (None, 47, 257, 8)        0         \n",
            "_________________________________________________________________\n",
            "time_distributed_1 (TimeDist (None, 47, 2056)          0         \n",
            "_________________________________________________________________\n",
            "bidirectional_1 (Bidirection (None, 47, 192)           2592000   \n",
            "_________________________________________________________________\n",
            "fc1 (Dense)                  (None, 47, 128)           24704     \n",
            "_________________________________________________________________\n",
            "fc2 (Dense)                  (None, 47, 128)           16512     \n",
            "_________________________________________________________________\n",
            "complex_mask (Dense)         (None, 47, 514)           66306     \n",
            "_________________________________________________________________\n",
            "reshape_1 (Reshape)          (None, 47, 257, 2, 1)     0         \n",
            "=================================================================\n",
            "Total params: 3,654,762\n",
            "Trainable params: 3,653,338\n",
            "Non-trainable params: 1,424\n",
            "_________________________________________________________________\n",
            "None\n"
          ],
          "name": "stdout"
        }
      ]
    },
    {
      "cell_type": "code",
      "metadata": {
        "id": "Rz6syPbAWogN",
        "colab_type": "code",
        "colab": {}
      },
      "source": [
        "%tensorboard --logdir logs"
      ],
      "execution_count": 0,
      "outputs": []
    },
    {
      "cell_type": "code",
      "metadata": {
        "id": "RGJmVHAjWo0Z",
        "colab_type": "code",
        "colab": {
          "base_uri": "https://localhost:8080/",
          "height": 1000
        },
        "outputId": "012d8a00-544c-41a9-f4b6-d6d68e7b6717"
      },
      "source": [
        "myModel.fit(train_generator,\n",
        "            validation_data=val_generator,\n",
        "            epochs=epochs,\n",
        "            # workers = workers,\n",
        "            # use_multiprocessing= use_multiprocessing,\n",
        "            callbacks=[ThisIsACallback()],\n",
        "            # initial_epoch=initial_epoch\n",
        "            )"
      ],
      "execution_count": 32,
      "outputs": [
        {
          "output_type": "stream",
          "text": [
            "Epoch 1/200\n",
            "3862/3862 [==============================] - 816s 211ms/step - loss: 0.0704 - mse: 0.0704 - val_loss: 0.0707 - val_mse: 0.0707\n",
            "Epoch 2/200\n",
            "3862/3862 [==============================] - 791s 205ms/step - loss: 0.0668 - mse: 0.0668 - val_loss: 0.0724 - val_mse: 0.0724\n",
            "Epoch 3/200\n",
            "3862/3862 [==============================] - 792s 205ms/step - loss: 0.0658 - mse: 0.0658 - val_loss: 0.0699 - val_mse: 0.0699\n",
            "Epoch 4/200\n",
            "3862/3862 [==============================] - 791s 205ms/step - loss: 0.0654 - mse: 0.0654 - val_loss: 0.0719 - val_mse: 0.0719\n",
            "Epoch 5/200\n",
            "3862/3862 [==============================] - 792s 205ms/step - loss: 0.0650 - mse: 0.0650 - val_loss: 0.0729 - val_mse: 0.0729\n",
            "Epoch 6/200\n",
            "3862/3862 [==============================] - 791s 205ms/step - loss: 0.0648 - mse: 0.0648 - val_loss: 0.0709 - val_mse: 0.0709\n",
            "Epoch 7/200\n",
            "3862/3862 [==============================] - 793s 205ms/step - loss: 0.0646 - mse: 0.0646 - val_loss: 0.0704 - val_mse: 0.0704\n",
            "Epoch 8/200\n",
            "3862/3862 [==============================] - 791s 205ms/step - loss: 0.0645 - mse: 0.0644 - val_loss: 0.0713 - val_mse: 0.0713\n",
            "Epoch 9/200\n",
            "3862/3862 [==============================] - 792s 205ms/step - loss: 0.0643 - mse: 0.0643 - val_loss: 0.0695 - val_mse: 0.0695\n",
            "Epoch 10/200\n",
            "3862/3862 [==============================] - 790s 205ms/step - loss: 0.0642 - mse: 0.0642 - val_loss: 0.0711 - val_mse: 0.0711\n",
            "Epoch 11/200\n",
            "3862/3862 [==============================] - 792s 205ms/step - loss: 0.0641 - mse: 0.0641 - val_loss: 0.0706 - val_mse: 0.0706\n",
            "Epoch 12/200\n",
            "3862/3862 [==============================] - 790s 205ms/step - loss: 0.0640 - mse: 0.0640 - val_loss: 0.0691 - val_mse: 0.0691\n",
            "Epoch 13/200\n",
            "3862/3862 [==============================] - 793s 205ms/step - loss: 0.0639 - mse: 0.0639 - val_loss: 0.0703 - val_mse: 0.0703\n",
            "Epoch 14/200\n",
            "3862/3862 [==============================] - 792s 205ms/step - loss: 0.0639 - mse: 0.0639 - val_loss: 0.0700 - val_mse: 0.0700\n",
            "Epoch 15/200\n",
            "3862/3862 [==============================] - 793s 205ms/step - loss: 0.0638 - mse: 0.0638 - val_loss: 0.0704 - val_mse: 0.0704\n",
            "Epoch 16/200\n",
            "3862/3862 [==============================] - 791s 205ms/step - loss: 0.0637 - mse: 0.0637 - val_loss: 0.0697 - val_mse: 0.0697\n",
            "Epoch 17/200\n",
            "3862/3862 [==============================] - 793s 205ms/step - loss: 0.0637 - mse: 0.0637 - val_loss: 0.0698 - val_mse: 0.0698\n",
            "Epoch 18/200\n",
            "3862/3862 [==============================] - 791s 205ms/step - loss: 0.0636 - mse: 0.0636 - val_loss: 0.0694 - val_mse: 0.0694\n",
            "Epoch 19/200\n",
            "3862/3862 [==============================] - 793s 205ms/step - loss: 0.0636 - mse: 0.0636 - val_loss: 0.0693 - val_mse: 0.0693\n",
            "Epoch 20/200\n",
            "3862/3862 [==============================] - 792s 205ms/step - loss: 0.0635 - mse: 0.0635 - val_loss: 0.0696 - val_mse: 0.0696\n",
            "Epoch 21/200\n",
            "3862/3862 [==============================] - 793s 205ms/step - loss: 0.0635 - mse: 0.0635 - val_loss: 0.0703 - val_mse: 0.0703\n",
            "Epoch 22/200\n",
            "3862/3862 [==============================] - 792s 205ms/step - loss: 0.0635 - mse: 0.0635 - val_loss: 0.0710 - val_mse: 0.0710\n",
            "Epoch 23/200\n",
            "3862/3862 [==============================] - 793s 205ms/step - loss: 0.0634 - mse: 0.0634 - val_loss: 0.0700 - val_mse: 0.0700\n",
            "Epoch 24/200\n",
            "3862/3862 [==============================] - 791s 205ms/step - loss: 0.0634 - mse: 0.0634 - val_loss: 0.0691 - val_mse: 0.0691\n",
            "Epoch 25/200\n",
            "3862/3862 [==============================] - 793s 205ms/step - loss: 0.0634 - mse: 0.0634 - val_loss: 0.0704 - val_mse: 0.0704\n",
            "Epoch 26/200\n",
            "3862/3862 [==============================] - 792s 205ms/step - loss: 0.0633 - mse: 0.0633 - val_loss: 0.0700 - val_mse: 0.0700\n",
            "Epoch 27/200\n",
            "3862/3862 [==============================] - 793s 205ms/step - loss: 0.0633 - mse: 0.0633 - val_loss: 0.0697 - val_mse: 0.0697\n",
            "Epoch 28/200\n",
            "3862/3862 [==============================] - 792s 205ms/step - loss: 0.0633 - mse: 0.0633 - val_loss: 0.0702 - val_mse: 0.0702\n",
            "Epoch 29/200\n",
            "3862/3862 [==============================] - 793s 205ms/step - loss: 0.0633 - mse: 0.0633 - val_loss: 0.0692 - val_mse: 0.0692\n",
            "Epoch 30/200\n",
            "3862/3862 [==============================] - 792s 205ms/step - loss: 0.0632 - mse: 0.0632 - val_loss: 0.0695 - val_mse: 0.0695\n",
            "Epoch 31/200\n",
            "3862/3862 [==============================] - 793s 205ms/step - loss: 0.0632 - mse: 0.0632 - val_loss: 0.0699 - val_mse: 0.0699\n",
            "Epoch 32/200\n",
            "3862/3862 [==============================] - 791s 205ms/step - loss: 0.0632 - mse: 0.0632 - val_loss: 0.0707 - val_mse: 0.0707\n",
            "Epoch 33/200\n",
            "3862/3862 [==============================] - 793s 205ms/step - loss: 0.0632 - mse: 0.0632 - val_loss: 0.0698 - val_mse: 0.0698\n",
            "Epoch 34/200\n",
            "3862/3862 [==============================] - 791s 205ms/step - loss: 0.0632 - mse: 0.0632 - val_loss: 0.0701 - val_mse: 0.0701\n",
            "Epoch 35/200\n",
            "3862/3862 [==============================] - 792s 205ms/step - loss: 0.0631 - mse: 0.0631 - val_loss: 0.0697 - val_mse: 0.0697\n",
            "Epoch 36/200\n",
            "3862/3862 [==============================] - 791s 205ms/step - loss: 0.0631 - mse: 0.0631 - val_loss: 0.0707 - val_mse: 0.0707\n",
            "Epoch 37/200\n",
            "3862/3862 [==============================] - 793s 205ms/step - loss: 0.0631 - mse: 0.0631 - val_loss: 0.0702 - val_mse: 0.0702\n",
            "Epoch 38/200\n",
            "3862/3862 [==============================] - 791s 205ms/step - loss: 0.0631 - mse: 0.0631 - val_loss: 0.0706 - val_mse: 0.0706\n",
            "Epoch 39/200\n",
            "3862/3862 [==============================] - 793s 205ms/step - loss: 0.0631 - mse: 0.0631 - val_loss: 0.0701 - val_mse: 0.0701\n",
            "Epoch 40/200\n",
            "3862/3862 [==============================] - 792s 205ms/step - loss: 0.0631 - mse: 0.0631 - val_loss: 0.0695 - val_mse: 0.0695\n",
            "Epoch 41/200\n",
            "3862/3862 [==============================] - 792s 205ms/step - loss: 0.0631 - mse: 0.0631 - val_loss: 0.0699 - val_mse: 0.0699\n",
            "Epoch 42/200\n",
            "3862/3862 [==============================] - 792s 205ms/step - loss: 0.0631 - mse: 0.0630 - val_loss: 0.0692 - val_mse: 0.0692\n",
            "Epoch 43/200\n",
            "3862/3862 [==============================] - 793s 205ms/step - loss: 0.0630 - mse: 0.0630 - val_loss: 0.0703 - val_mse: 0.0703\n",
            "Epoch 44/200\n",
            "3862/3862 [==============================] - 792s 205ms/step - loss: 0.0630 - mse: 0.0630 - val_loss: 0.0694 - val_mse: 0.0694\n",
            "Epoch 45/200\n",
            "3862/3862 [==============================] - 793s 205ms/step - loss: 0.0629 - mse: 0.0629 - val_loss: 0.0704 - val_mse: 0.0704\n",
            "Epoch 46/200\n",
            "3862/3862 [==============================] - 792s 205ms/step - loss: 0.0629 - mse: 0.0629 - val_loss: 0.0702 - val_mse: 0.0702\n",
            "Epoch 47/200\n",
            "3862/3862 [==============================] - 793s 205ms/step - loss: 0.0628 - mse: 0.0627 - val_loss: 0.0706 - val_mse: 0.0706\n",
            "Epoch 48/200\n",
            "3862/3862 [==============================] - 791s 205ms/step - loss: 0.0626 - mse: 0.0626 - val_loss: 0.0700 - val_mse: 0.0700\n",
            "Epoch 49/200\n",
            "3862/3862 [==============================] - 793s 205ms/step - loss: 0.0625 - mse: 0.0625 - val_loss: 0.0709 - val_mse: 0.0709\n",
            "Epoch 50/200\n",
            "3862/3862 [==============================] - 791s 205ms/step - loss: 0.0623 - mse: 0.0623 - val_loss: 0.0700 - val_mse: 0.0700\n",
            "Epoch 51/200\n",
            "3862/3862 [==============================] - 793s 205ms/step - loss: 0.0622 - mse: 0.0622 - val_loss: 0.0717 - val_mse: 0.0717\n",
            "Epoch 52/200\n",
            "3862/3862 [==============================] - 791s 205ms/step - loss: 0.0622 - mse: 0.0622 - val_loss: 0.0702 - val_mse: 0.0702\n",
            "Epoch 53/200\n",
            "3862/3862 [==============================] - 792s 205ms/step - loss: 0.0621 - mse: 0.0621 - val_loss: 0.0706 - val_mse: 0.0706\n",
            "Epoch 54/200\n",
            "3862/3862 [==============================] - 791s 205ms/step - loss: 0.0620 - mse: 0.0620 - val_loss: 0.0696 - val_mse: 0.0696\n",
            "Epoch 55/200\n",
            "3862/3862 [==============================] - 792s 205ms/step - loss: 0.0620 - mse: 0.0619 - val_loss: 0.0703 - val_mse: 0.0703\n",
            "Epoch 56/200\n",
            "3862/3862 [==============================] - 792s 205ms/step - loss: 0.0619 - mse: 0.0619 - val_loss: 0.0706 - val_mse: 0.0706\n",
            "Epoch 57/200\n",
            "3862/3862 [==============================] - 793s 205ms/step - loss: 0.0618 - mse: 0.0618 - val_loss: 0.0705 - val_mse: 0.0705\n",
            "Epoch 58/200\n",
            "3862/3862 [==============================] - 792s 205ms/step - loss: 0.0618 - mse: 0.0618 - val_loss: 0.0715 - val_mse: 0.0715\n",
            "Epoch 59/200\n",
            "3862/3862 [==============================] - 794s 206ms/step - loss: 0.0618 - mse: 0.0618 - val_loss: 0.0709 - val_mse: 0.0709\n",
            "Epoch 60/200\n",
            "3862/3862 [==============================] - 792s 205ms/step - loss: 0.0617 - mse: 0.0617 - val_loss: 0.0700 - val_mse: 0.0700\n",
            "Epoch 61/200\n",
            "3862/3862 [==============================] - 793s 205ms/step - loss: 0.0617 - mse: 0.0617 - val_loss: 0.0711 - val_mse: 0.0711\n",
            "Epoch 62/200\n",
            "3862/3862 [==============================] - 792s 205ms/step - loss: 0.0616 - mse: 0.0616 - val_loss: 0.0701 - val_mse: 0.0701\n",
            "Epoch 63/200\n",
            "3862/3862 [==============================] - 793s 205ms/step - loss: 0.0616 - mse: 0.0616 - val_loss: 0.0713 - val_mse: 0.0713\n",
            "Epoch 64/200\n",
            "3862/3862 [==============================] - 792s 205ms/step - loss: 0.0616 - mse: 0.0616 - val_loss: 0.0709 - val_mse: 0.0709\n",
            "Epoch 65/200\n",
            "3862/3862 [==============================] - 793s 205ms/step - loss: 0.0615 - mse: 0.0615 - val_loss: 0.0713 - val_mse: 0.0713\n",
            "Epoch 66/200\n",
            "3862/3862 [==============================] - 792s 205ms/step - loss: 0.0615 - mse: 0.0615 - val_loss: 0.0710 - val_mse: 0.0710\n",
            "Epoch 67/200\n",
            "3862/3862 [==============================] - 793s 205ms/step - loss: 0.0615 - mse: 0.0615 - val_loss: 0.0703 - val_mse: 0.0703\n",
            "Epoch 68/200\n",
            "3862/3862 [==============================] - 791s 205ms/step - loss: 0.0614 - mse: 0.0614 - val_loss: 0.0708 - val_mse: 0.0708\n",
            "Epoch 69/200\n",
            "3862/3862 [==============================] - 792s 205ms/step - loss: 0.0614 - mse: 0.0614 - val_loss: 0.0709 - val_mse: 0.0709\n",
            "Epoch 70/200\n",
            "3862/3862 [==============================] - 791s 205ms/step - loss: 0.0614 - mse: 0.0614 - val_loss: 0.0702 - val_mse: 0.0702\n",
            "Epoch 71/200\n",
            "3862/3862 [==============================] - 793s 205ms/step - loss: 0.0614 - mse: 0.0614 - val_loss: 0.0706 - val_mse: 0.0706\n",
            "Epoch 72/200\n",
            "3862/3862 [==============================] - 792s 205ms/step - loss: 0.0614 - mse: 0.0613 - val_loss: 0.0709 - val_mse: 0.0709\n",
            "Epoch 73/200\n",
            "3862/3862 [==============================] - 793s 205ms/step - loss: 0.0613 - mse: 0.0613 - val_loss: 0.0702 - val_mse: 0.0702\n",
            "Epoch 74/200\n",
            "3286/3862 [========================>.....] - ETA: 1:51 - loss: 0.0613 - mse: 0.0613"
          ],
          "name": "stdout"
        },
        {
          "output_type": "error",
          "ename": "KeyboardInterrupt",
          "evalue": "ignored",
          "traceback": [
            "\u001b[0;31m---------------------------------------------------------------------------\u001b[0m",
            "\u001b[0;31mKeyboardInterrupt\u001b[0m                         Traceback (most recent call last)",
            "\u001b[0;32m<ipython-input-32-2ba06e7c5a92>\u001b[0m in \u001b[0;36m<module>\u001b[0;34m()\u001b[0m\n\u001b[1;32m      4\u001b[0m             \u001b[0;31m# workers = workers,\u001b[0m\u001b[0;34m\u001b[0m\u001b[0;34m\u001b[0m\u001b[0;34m\u001b[0m\u001b[0m\n\u001b[1;32m      5\u001b[0m             \u001b[0;31m# use_multiprocessing= use_multiprocessing,\u001b[0m\u001b[0;34m\u001b[0m\u001b[0;34m\u001b[0m\u001b[0;34m\u001b[0m\u001b[0m\n\u001b[0;32m----> 6\u001b[0;31m             \u001b[0mcallbacks\u001b[0m\u001b[0;34m=\u001b[0m\u001b[0;34m[\u001b[0m\u001b[0mThisIsACallback\u001b[0m\u001b[0;34m(\u001b[0m\u001b[0;34m)\u001b[0m\u001b[0;34m]\u001b[0m\u001b[0;34m,\u001b[0m\u001b[0;34m\u001b[0m\u001b[0;34m\u001b[0m\u001b[0m\n\u001b[0m\u001b[1;32m      7\u001b[0m             \u001b[0;31m# initial_epoch=initial_epoch\u001b[0m\u001b[0;34m\u001b[0m\u001b[0;34m\u001b[0m\u001b[0;34m\u001b[0m\u001b[0m\n\u001b[1;32m      8\u001b[0m             )\n",
            "\u001b[0;32m/usr/local/lib/python3.6/dist-packages/tensorflow/python/keras/engine/training.py\u001b[0m in \u001b[0;36m_method_wrapper\u001b[0;34m(self, *args, **kwargs)\u001b[0m\n\u001b[1;32m     64\u001b[0m   \u001b[0;32mdef\u001b[0m \u001b[0m_method_wrapper\u001b[0m\u001b[0;34m(\u001b[0m\u001b[0mself\u001b[0m\u001b[0;34m,\u001b[0m \u001b[0;34m*\u001b[0m\u001b[0margs\u001b[0m\u001b[0;34m,\u001b[0m \u001b[0;34m**\u001b[0m\u001b[0mkwargs\u001b[0m\u001b[0;34m)\u001b[0m\u001b[0;34m:\u001b[0m\u001b[0;34m\u001b[0m\u001b[0;34m\u001b[0m\u001b[0m\n\u001b[1;32m     65\u001b[0m     \u001b[0;32mif\u001b[0m \u001b[0;32mnot\u001b[0m \u001b[0mself\u001b[0m\u001b[0;34m.\u001b[0m\u001b[0m_in_multi_worker_mode\u001b[0m\u001b[0;34m(\u001b[0m\u001b[0;34m)\u001b[0m\u001b[0;34m:\u001b[0m  \u001b[0;31m# pylint: disable=protected-access\u001b[0m\u001b[0;34m\u001b[0m\u001b[0;34m\u001b[0m\u001b[0m\n\u001b[0;32m---> 66\u001b[0;31m       \u001b[0;32mreturn\u001b[0m \u001b[0mmethod\u001b[0m\u001b[0;34m(\u001b[0m\u001b[0mself\u001b[0m\u001b[0;34m,\u001b[0m \u001b[0;34m*\u001b[0m\u001b[0margs\u001b[0m\u001b[0;34m,\u001b[0m \u001b[0;34m**\u001b[0m\u001b[0mkwargs\u001b[0m\u001b[0;34m)\u001b[0m\u001b[0;34m\u001b[0m\u001b[0;34m\u001b[0m\u001b[0m\n\u001b[0m\u001b[1;32m     67\u001b[0m \u001b[0;34m\u001b[0m\u001b[0m\n\u001b[1;32m     68\u001b[0m     \u001b[0;31m# Running inside `run_distribute_coordinator` already.\u001b[0m\u001b[0;34m\u001b[0m\u001b[0;34m\u001b[0m\u001b[0;34m\u001b[0m\u001b[0m\n",
            "\u001b[0;32m/usr/local/lib/python3.6/dist-packages/tensorflow/python/keras/engine/training.py\u001b[0m in \u001b[0;36mfit\u001b[0;34m(self, x, y, batch_size, epochs, verbose, callbacks, validation_split, validation_data, shuffle, class_weight, sample_weight, initial_epoch, steps_per_epoch, validation_steps, validation_batch_size, validation_freq, max_queue_size, workers, use_multiprocessing)\u001b[0m\n\u001b[1;32m    853\u001b[0m                 \u001b[0mcontext\u001b[0m\u001b[0;34m.\u001b[0m\u001b[0masync_wait\u001b[0m\u001b[0;34m(\u001b[0m\u001b[0;34m)\u001b[0m\u001b[0;34m\u001b[0m\u001b[0;34m\u001b[0m\u001b[0m\n\u001b[1;32m    854\u001b[0m               \u001b[0mlogs\u001b[0m \u001b[0;34m=\u001b[0m \u001b[0mtmp_logs\u001b[0m  \u001b[0;31m# No error, now safe to assign to logs.\u001b[0m\u001b[0;34m\u001b[0m\u001b[0;34m\u001b[0m\u001b[0m\n\u001b[0;32m--> 855\u001b[0;31m               \u001b[0mcallbacks\u001b[0m\u001b[0;34m.\u001b[0m\u001b[0mon_train_batch_end\u001b[0m\u001b[0;34m(\u001b[0m\u001b[0mstep\u001b[0m\u001b[0;34m,\u001b[0m \u001b[0mlogs\u001b[0m\u001b[0;34m)\u001b[0m\u001b[0;34m\u001b[0m\u001b[0;34m\u001b[0m\u001b[0m\n\u001b[0m\u001b[1;32m    856\u001b[0m         \u001b[0mepoch_logs\u001b[0m \u001b[0;34m=\u001b[0m \u001b[0mcopy\u001b[0m\u001b[0;34m.\u001b[0m\u001b[0mcopy\u001b[0m\u001b[0;34m(\u001b[0m\u001b[0mlogs\u001b[0m\u001b[0;34m)\u001b[0m\u001b[0;34m\u001b[0m\u001b[0;34m\u001b[0m\u001b[0m\n\u001b[1;32m    857\u001b[0m \u001b[0;34m\u001b[0m\u001b[0m\n",
            "\u001b[0;32m/usr/local/lib/python3.6/dist-packages/tensorflow/python/keras/callbacks.py\u001b[0m in \u001b[0;36mon_train_batch_end\u001b[0;34m(self, batch, logs)\u001b[0m\n\u001b[1;32m    387\u001b[0m     \"\"\"\n\u001b[1;32m    388\u001b[0m     \u001b[0;32mif\u001b[0m \u001b[0mself\u001b[0m\u001b[0;34m.\u001b[0m\u001b[0m_should_call_train_batch_hooks\u001b[0m\u001b[0;34m:\u001b[0m\u001b[0;34m\u001b[0m\u001b[0;34m\u001b[0m\u001b[0m\n\u001b[0;32m--> 389\u001b[0;31m       \u001b[0mlogs\u001b[0m \u001b[0;34m=\u001b[0m \u001b[0mself\u001b[0m\u001b[0;34m.\u001b[0m\u001b[0m_process_logs\u001b[0m\u001b[0;34m(\u001b[0m\u001b[0mlogs\u001b[0m\u001b[0;34m)\u001b[0m\u001b[0;34m\u001b[0m\u001b[0;34m\u001b[0m\u001b[0m\n\u001b[0m\u001b[1;32m    390\u001b[0m       \u001b[0mself\u001b[0m\u001b[0;34m.\u001b[0m\u001b[0m_call_batch_hook\u001b[0m\u001b[0;34m(\u001b[0m\u001b[0mModeKeys\u001b[0m\u001b[0;34m.\u001b[0m\u001b[0mTRAIN\u001b[0m\u001b[0;34m,\u001b[0m \u001b[0;34m'end'\u001b[0m\u001b[0;34m,\u001b[0m \u001b[0mbatch\u001b[0m\u001b[0;34m,\u001b[0m \u001b[0mlogs\u001b[0m\u001b[0;34m=\u001b[0m\u001b[0mlogs\u001b[0m\u001b[0;34m)\u001b[0m\u001b[0;34m\u001b[0m\u001b[0;34m\u001b[0m\u001b[0m\n\u001b[1;32m    391\u001b[0m \u001b[0;34m\u001b[0m\u001b[0m\n",
            "\u001b[0;32m/usr/local/lib/python3.6/dist-packages/tensorflow/python/keras/callbacks.py\u001b[0m in \u001b[0;36m_process_logs\u001b[0;34m(self, logs)\u001b[0m\n\u001b[1;32m    263\u001b[0m     \u001b[0;34m\"\"\"Turns tensors into numpy arrays or Python scalars.\"\"\"\u001b[0m\u001b[0;34m\u001b[0m\u001b[0;34m\u001b[0m\u001b[0m\n\u001b[1;32m    264\u001b[0m     \u001b[0;32mif\u001b[0m \u001b[0mlogs\u001b[0m\u001b[0;34m:\u001b[0m\u001b[0;34m\u001b[0m\u001b[0;34m\u001b[0m\u001b[0m\n\u001b[0;32m--> 265\u001b[0;31m       \u001b[0;32mreturn\u001b[0m \u001b[0mtf_utils\u001b[0m\u001b[0;34m.\u001b[0m\u001b[0mto_numpy_or_python_type\u001b[0m\u001b[0;34m(\u001b[0m\u001b[0mlogs\u001b[0m\u001b[0;34m)\u001b[0m\u001b[0;34m\u001b[0m\u001b[0;34m\u001b[0m\u001b[0m\n\u001b[0m\u001b[1;32m    266\u001b[0m     \u001b[0;32mreturn\u001b[0m \u001b[0;34m{\u001b[0m\u001b[0;34m}\u001b[0m\u001b[0;34m\u001b[0m\u001b[0;34m\u001b[0m\u001b[0m\n\u001b[1;32m    267\u001b[0m \u001b[0;34m\u001b[0m\u001b[0m\n",
            "\u001b[0;32m/usr/local/lib/python3.6/dist-packages/tensorflow/python/keras/utils/tf_utils.py\u001b[0m in \u001b[0;36mto_numpy_or_python_type\u001b[0;34m(tensors)\u001b[0m\n\u001b[1;32m    521\u001b[0m     \u001b[0;32mreturn\u001b[0m \u001b[0mt\u001b[0m  \u001b[0;31m# Don't turn ragged or sparse tensors to NumPy.\u001b[0m\u001b[0;34m\u001b[0m\u001b[0;34m\u001b[0m\u001b[0m\n\u001b[1;32m    522\u001b[0m \u001b[0;34m\u001b[0m\u001b[0m\n\u001b[0;32m--> 523\u001b[0;31m   \u001b[0;32mreturn\u001b[0m \u001b[0mnest\u001b[0m\u001b[0;34m.\u001b[0m\u001b[0mmap_structure\u001b[0m\u001b[0;34m(\u001b[0m\u001b[0m_to_single_numpy_or_python_type\u001b[0m\u001b[0;34m,\u001b[0m \u001b[0mtensors\u001b[0m\u001b[0;34m)\u001b[0m\u001b[0;34m\u001b[0m\u001b[0;34m\u001b[0m\u001b[0m\n\u001b[0m\u001b[1;32m    524\u001b[0m \u001b[0;34m\u001b[0m\u001b[0m\n",
            "\u001b[0;32m/usr/local/lib/python3.6/dist-packages/tensorflow/python/util/nest.py\u001b[0m in \u001b[0;36mmap_structure\u001b[0;34m(func, *structure, **kwargs)\u001b[0m\n\u001b[1;32m    615\u001b[0m \u001b[0;34m\u001b[0m\u001b[0m\n\u001b[1;32m    616\u001b[0m   return pack_sequence_as(\n\u001b[0;32m--> 617\u001b[0;31m       \u001b[0mstructure\u001b[0m\u001b[0;34m[\u001b[0m\u001b[0;36m0\u001b[0m\u001b[0;34m]\u001b[0m\u001b[0;34m,\u001b[0m \u001b[0;34m[\u001b[0m\u001b[0mfunc\u001b[0m\u001b[0;34m(\u001b[0m\u001b[0;34m*\u001b[0m\u001b[0mx\u001b[0m\u001b[0;34m)\u001b[0m \u001b[0;32mfor\u001b[0m \u001b[0mx\u001b[0m \u001b[0;32min\u001b[0m \u001b[0mentries\u001b[0m\u001b[0;34m]\u001b[0m\u001b[0;34m,\u001b[0m\u001b[0;34m\u001b[0m\u001b[0;34m\u001b[0m\u001b[0m\n\u001b[0m\u001b[1;32m    618\u001b[0m       expand_composites=expand_composites)\n\u001b[1;32m    619\u001b[0m \u001b[0;34m\u001b[0m\u001b[0m\n",
            "\u001b[0;32m/usr/local/lib/python3.6/dist-packages/tensorflow/python/util/nest.py\u001b[0m in \u001b[0;36m<listcomp>\u001b[0;34m(.0)\u001b[0m\n\u001b[1;32m    615\u001b[0m \u001b[0;34m\u001b[0m\u001b[0m\n\u001b[1;32m    616\u001b[0m   return pack_sequence_as(\n\u001b[0;32m--> 617\u001b[0;31m       \u001b[0mstructure\u001b[0m\u001b[0;34m[\u001b[0m\u001b[0;36m0\u001b[0m\u001b[0;34m]\u001b[0m\u001b[0;34m,\u001b[0m \u001b[0;34m[\u001b[0m\u001b[0mfunc\u001b[0m\u001b[0;34m(\u001b[0m\u001b[0;34m*\u001b[0m\u001b[0mx\u001b[0m\u001b[0;34m)\u001b[0m \u001b[0;32mfor\u001b[0m \u001b[0mx\u001b[0m \u001b[0;32min\u001b[0m \u001b[0mentries\u001b[0m\u001b[0;34m]\u001b[0m\u001b[0;34m,\u001b[0m\u001b[0;34m\u001b[0m\u001b[0;34m\u001b[0m\u001b[0m\n\u001b[0m\u001b[1;32m    618\u001b[0m       expand_composites=expand_composites)\n\u001b[1;32m    619\u001b[0m \u001b[0;34m\u001b[0m\u001b[0m\n",
            "\u001b[0;32m/usr/local/lib/python3.6/dist-packages/tensorflow/python/keras/utils/tf_utils.py\u001b[0m in \u001b[0;36m_to_single_numpy_or_python_type\u001b[0;34m(t)\u001b[0m\n\u001b[1;32m    517\u001b[0m   \u001b[0;32mdef\u001b[0m \u001b[0m_to_single_numpy_or_python_type\u001b[0m\u001b[0;34m(\u001b[0m\u001b[0mt\u001b[0m\u001b[0;34m)\u001b[0m\u001b[0;34m:\u001b[0m\u001b[0;34m\u001b[0m\u001b[0;34m\u001b[0m\u001b[0m\n\u001b[1;32m    518\u001b[0m     \u001b[0;32mif\u001b[0m \u001b[0misinstance\u001b[0m\u001b[0;34m(\u001b[0m\u001b[0mt\u001b[0m\u001b[0;34m,\u001b[0m \u001b[0mops\u001b[0m\u001b[0;34m.\u001b[0m\u001b[0mTensor\u001b[0m\u001b[0;34m)\u001b[0m\u001b[0;34m:\u001b[0m\u001b[0;34m\u001b[0m\u001b[0;34m\u001b[0m\u001b[0m\n\u001b[0;32m--> 519\u001b[0;31m       \u001b[0mx\u001b[0m \u001b[0;34m=\u001b[0m \u001b[0mt\u001b[0m\u001b[0;34m.\u001b[0m\u001b[0mnumpy\u001b[0m\u001b[0;34m(\u001b[0m\u001b[0;34m)\u001b[0m\u001b[0;34m\u001b[0m\u001b[0;34m\u001b[0m\u001b[0m\n\u001b[0m\u001b[1;32m    520\u001b[0m       \u001b[0;32mreturn\u001b[0m \u001b[0mx\u001b[0m\u001b[0;34m.\u001b[0m\u001b[0mitem\u001b[0m\u001b[0;34m(\u001b[0m\u001b[0;34m)\u001b[0m \u001b[0;32mif\u001b[0m \u001b[0mnp\u001b[0m\u001b[0;34m.\u001b[0m\u001b[0mndim\u001b[0m\u001b[0;34m(\u001b[0m\u001b[0mx\u001b[0m\u001b[0;34m)\u001b[0m \u001b[0;34m==\u001b[0m \u001b[0;36m0\u001b[0m \u001b[0;32melse\u001b[0m \u001b[0mx\u001b[0m\u001b[0;34m\u001b[0m\u001b[0;34m\u001b[0m\u001b[0m\n\u001b[1;32m    521\u001b[0m     \u001b[0;32mreturn\u001b[0m \u001b[0mt\u001b[0m  \u001b[0;31m# Don't turn ragged or sparse tensors to NumPy.\u001b[0m\u001b[0;34m\u001b[0m\u001b[0;34m\u001b[0m\u001b[0m\n",
            "\u001b[0;32m/usr/local/lib/python3.6/dist-packages/tensorflow/python/framework/ops.py\u001b[0m in \u001b[0;36mnumpy\u001b[0;34m(self)\u001b[0m\n\u001b[1;32m    959\u001b[0m     \"\"\"\n\u001b[1;32m    960\u001b[0m     \u001b[0;31m# TODO(slebedev): Consider avoiding a copy for non-CPU or remote tensors.\u001b[0m\u001b[0;34m\u001b[0m\u001b[0;34m\u001b[0m\u001b[0;34m\u001b[0m\u001b[0m\n\u001b[0;32m--> 961\u001b[0;31m     \u001b[0mmaybe_arr\u001b[0m \u001b[0;34m=\u001b[0m \u001b[0mself\u001b[0m\u001b[0;34m.\u001b[0m\u001b[0m_numpy\u001b[0m\u001b[0;34m(\u001b[0m\u001b[0;34m)\u001b[0m  \u001b[0;31m# pylint: disable=protected-access\u001b[0m\u001b[0;34m\u001b[0m\u001b[0;34m\u001b[0m\u001b[0m\n\u001b[0m\u001b[1;32m    962\u001b[0m     \u001b[0;32mreturn\u001b[0m \u001b[0mmaybe_arr\u001b[0m\u001b[0;34m.\u001b[0m\u001b[0mcopy\u001b[0m\u001b[0;34m(\u001b[0m\u001b[0;34m)\u001b[0m \u001b[0;32mif\u001b[0m \u001b[0misinstance\u001b[0m\u001b[0;34m(\u001b[0m\u001b[0mmaybe_arr\u001b[0m\u001b[0;34m,\u001b[0m \u001b[0mnp\u001b[0m\u001b[0;34m.\u001b[0m\u001b[0mndarray\u001b[0m\u001b[0;34m)\u001b[0m \u001b[0;32melse\u001b[0m \u001b[0mmaybe_arr\u001b[0m\u001b[0;34m\u001b[0m\u001b[0;34m\u001b[0m\u001b[0m\n\u001b[1;32m    963\u001b[0m \u001b[0;34m\u001b[0m\u001b[0m\n",
            "\u001b[0;32m/usr/local/lib/python3.6/dist-packages/tensorflow/python/framework/ops.py\u001b[0m in \u001b[0;36m_numpy\u001b[0;34m(self)\u001b[0m\n\u001b[1;32m    925\u001b[0m     \u001b[0;31m# pylint: disable=protected-access\u001b[0m\u001b[0;34m\u001b[0m\u001b[0;34m\u001b[0m\u001b[0;34m\u001b[0m\u001b[0m\n\u001b[1;32m    926\u001b[0m     \u001b[0;32mtry\u001b[0m\u001b[0;34m:\u001b[0m\u001b[0;34m\u001b[0m\u001b[0;34m\u001b[0m\u001b[0m\n\u001b[0;32m--> 927\u001b[0;31m       \u001b[0;32mreturn\u001b[0m \u001b[0mself\u001b[0m\u001b[0;34m.\u001b[0m\u001b[0m_numpy_internal\u001b[0m\u001b[0;34m(\u001b[0m\u001b[0;34m)\u001b[0m\u001b[0;34m\u001b[0m\u001b[0;34m\u001b[0m\u001b[0m\n\u001b[0m\u001b[1;32m    928\u001b[0m     \u001b[0;32mexcept\u001b[0m \u001b[0mcore\u001b[0m\u001b[0;34m.\u001b[0m\u001b[0m_NotOkStatusException\u001b[0m \u001b[0;32mas\u001b[0m \u001b[0me\u001b[0m\u001b[0;34m:\u001b[0m\u001b[0;34m\u001b[0m\u001b[0;34m\u001b[0m\u001b[0m\n\u001b[1;32m    929\u001b[0m       \u001b[0msix\u001b[0m\u001b[0;34m.\u001b[0m\u001b[0mraise_from\u001b[0m\u001b[0;34m(\u001b[0m\u001b[0mcore\u001b[0m\u001b[0;34m.\u001b[0m\u001b[0m_status_to_exception\u001b[0m\u001b[0;34m(\u001b[0m\u001b[0me\u001b[0m\u001b[0;34m.\u001b[0m\u001b[0mcode\u001b[0m\u001b[0;34m,\u001b[0m \u001b[0me\u001b[0m\u001b[0;34m.\u001b[0m\u001b[0mmessage\u001b[0m\u001b[0;34m)\u001b[0m\u001b[0;34m,\u001b[0m \u001b[0;32mNone\u001b[0m\u001b[0;34m)\u001b[0m\u001b[0;34m\u001b[0m\u001b[0;34m\u001b[0m\u001b[0m\n",
            "\u001b[0;31mKeyboardInterrupt\u001b[0m: "
          ]
        }
      ]
    }
  ]
}